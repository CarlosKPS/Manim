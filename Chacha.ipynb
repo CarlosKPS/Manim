{
 "cells": [
  {
   "cell_type": "markdown",
   "metadata": {},
   "source": [
    "# Chacha algorithm using python\n",
    "\n",
    "##### Name: Carlos Keleanderson Pereira da Silva\n",
    "##### Federal University of Rio de Janeiro"
   ]
  },
  {
   "cell_type": "code",
   "execution_count": 302,
   "metadata": {},
   "outputs": [],
   "source": [
    "def shift_left(number, shift):\n",
    "    \"\"\"The function receive a binary number such as a=bin(12) and compute a left shift in this number by the value\n",
    "    of a shift parameter.\n",
    "    number: an integer number\n",
    "    shift: number of bits shifted to the left\n",
    "    \"\"\"\n",
    "    \n",
    "    # A verification if the type is binary type and if yes tranform it into integer type to aplicate the shift function\n",
    "    if type(number) is str:\n",
    "        n = int(number,2) # transforms into integer type\n",
    "    else:\n",
    "        n = number\n",
    "    \n",
    "    # If the shift is bigger than the lenght of the binary number ( without the '0b' prefix) we must see the equivalent\n",
    "    # shift by using module function in python\n",
    "    shift = shift%len(bin(n)[2:])\n",
    "    \n",
    "    \n",
    "    # Now we apply the shift and after tranform into binary number\n",
    "    n1 = bin(n<<(shift))\n",
    "    number = '0b'+n1[2+shift:-shift]+n1[2:2+shift]\n",
    "    #print(len(number))\n",
    "    \n",
    "    if len(number)==34:\n",
    "        return number\n",
    "    else:\n",
    "        diff = abs(len(number)-34)\n",
    "        return '0b'+'0'*diff+number[2:]\n",
    "\n",
    "\n",
    "def shift_right(number, shift):\n",
    "    \"\"\"The function receive a binary number such as a=bin(12) and compute a right shift in this number by the value\n",
    "    of a shift parameter.\n",
    "    number: an integer number\n",
    "    shift: number of bits shifted to the right.\n",
    "    \"\"\"\n",
    "    \n",
    "    # A verification if the type is binary type and if yes tranform it into integer type to aplicate the shift function\n",
    "    if type(number) is str:\n",
    "        n = int(number,2) # transforms into integer type\n",
    "    else:\n",
    "        n = number\n",
    "        \n",
    "    # If the shift is bigger than the lenght of the binary number ( without the '0b' prefix) we must see the equivalent\n",
    "    # shift by using module function in python\n",
    "    shift = shift%len(bin(n)[2:])\n",
    "    \n",
    "    # If shift is zero then return the number istself\n",
    "    if not shift:\n",
    "        return bin(n)\n",
    "    # create an auxiliar matrix to store the bits will arase when apply n>>shift\n",
    "    n_aux = bin(n)[-shift:]\n",
    "    n1 = bin(n>>shift)[2:]\n",
    "    \n",
    "    # return the binary of shift bilding\n",
    "    return '0b'+n_aux+n1"
   ]
  },
  {
   "cell_type": "code",
   "execution_count": 2,
   "metadata": {},
   "outputs": [
    {
     "data": {
      "text/plain": [
       "5"
      ]
     },
     "execution_count": 2,
     "metadata": {},
     "output_type": "execute_result"
    }
   ],
   "source": [
    "# ****************************************\n",
    "# testing ********************************\n",
    "# ****************************************\n",
    "numero = 0b10100\n",
    "[shift_right(numero,i) for i in range(1,10)]\n",
    "int([shift_left(numero,i) for i in range(1,10)][7],2)"
   ]
  },
  {
   "cell_type": "code",
   "execution_count": 209,
   "metadata": {},
   "outputs": [],
   "source": [
    "# defining xor operation and addition operation\n",
    "def xor(n1,n2):\n",
    "    if type(n1) is str:\n",
    "        n1 = int(n1,2)\n",
    "    else:\n",
    "        n1 = n1\n",
    "    if type(n2) is str:\n",
    "        n2 = int(n2,2)\n",
    "    else:\n",
    "        n2 = n2\n",
    "        \n",
    "    number = bin(n1^n2)\n",
    "    \n",
    "    #print(\"numero binario e tamanho \")\n",
    "    #print(number, len(number))\n",
    "    #print(\"n1 e n2\")\n",
    "    #print(n1,n2)\n",
    "    \n",
    "    if len(number)== 34:\n",
    "        return number\n",
    "    else:\n",
    "        diff = abs(len(number)-34)\n",
    "        return '0b'+'0'*diff+number[2:]\n",
    "\n",
    "def bit_sum(n1,n2):\n",
    "    # verifiying if is a bit class\n",
    "    if type(n1) is str:\n",
    "        n1 = n1\n",
    "    else:\n",
    "        n1 = bin(n1)\n",
    "    if type(n2) is str:\n",
    "        n2 = n2\n",
    "    else:\n",
    "        n2 = bin(n2)\n",
    "    \n",
    "    \n",
    "    number='' # create a list to add the binary number\n",
    "    carry = 0 # carry to use in the bit addition\n",
    "    \n",
    "    for i,j in zip(n1[2:][::-1],n2[2:][::-1]):\n",
    "        soma = int(i)+int(j)+carry\n",
    "        if soma%2==0:\n",
    "            carry = 1\n",
    "            number = number+str(0)\n",
    "        elif soma%3==0:\n",
    "            carry = 1\n",
    "            number = number+str(1)\n",
    "        else:\n",
    "            carry = 0\n",
    "            number = number+str(1)\n",
    "    if len(number)==len(n1[2:]):\n",
    "        pass\n",
    "    else:\n",
    "        number = number[:-2]\n",
    "    \n",
    "    return '0b'+number[::-1]"
   ]
  },
  {
   "cell_type": "code",
   "execution_count": 459,
   "metadata": {
    "scrolled": true
   },
   "outputs": [
    {
     "data": {
      "text/plain": [
       "('0b00000000000000000000000110110001', '0b0111000101')"
      ]
     },
     "execution_count": 459,
     "metadata": {},
     "output_type": "execute_result"
    }
   ],
   "source": [
    "# ****************************\n",
    "# testing*********************\n",
    "#*****************************\n",
    "n1 = ('0b1100101010')\n",
    "n2 = ('0b1010011011')\n",
    "xor(n1,n2), bit_sum(n1,n2)"
   ]
  },
  {
   "cell_type": "code",
   "execution_count": 5,
   "metadata": {},
   "outputs": [],
   "source": [
    "# Function to generate a pseudo-random key\n",
    "# using random library\n",
    "import random\n",
    "\n",
    "def generate_key(n_bits):\n",
    "    \"\"\"This function return a key of n_bits bit\"\"\"\n",
    "    number = '' # aux vector to save all bits\n",
    "    \n",
    "    # Generates all key's bits\n",
    "    for i in range(0, n_bits):\n",
    "        number = number+str(random.randrange(0,2))\n",
    "    return '0b'+number"
   ]
  },
  {
   "cell_type": "code",
   "execution_count": 6,
   "metadata": {},
   "outputs": [],
   "source": [
    "# criar a matrix do chacha \n",
    "def generate_chacha_matrix(key,counter,n0,n1,n2,c0,c1,c2,c3,elements = 0):\n",
    "    try:\n",
    "        x0 = c0\n",
    "        x1 = c1\n",
    "        x2 = c2\n",
    "        x3 = c3\n",
    "        x4 = key[:34]\n",
    "        x5 = '0b'+key[34:66]\n",
    "        x6 = '0b'+key[66:98]\n",
    "        x7 = '0b'+key[98:130]\n",
    "        x8 = '0b'+key[130:162]\n",
    "        x9 = '0b'+key[162:194]\n",
    "        x10 = '0b'+key[194:226]\n",
    "        x11 = '0b'+key[226:]\n",
    "        x12 = counter\n",
    "        x13 = n0\n",
    "        x14 = n1\n",
    "        x15 = n2\n",
    "    except:\n",
    "        raise Exception(\" the key has not 256 or some of the inputs are not allowed\")\n",
    "    \n",
    "    if elements:\n",
    "        return [x0,x1,x2,x3,x4,x4,x5,x6,x7,x8,x9,x10,x11,x12,x13,x14,x15]\n",
    "    else:\n",
    "        return [[x0,x1,x2,x3],[x4,x5,x6,x7],[x8,x9,x10,x11],[x12,x13,x14,x15]]"
   ]
  },
  {
   "cell_type": "code",
   "execution_count": 154,
   "metadata": {},
   "outputs": [],
   "source": [
    "k_test = generate_key(256)\n",
    "# k_test, len(k_test[2:])\n",
    "\n",
    "# genereta aleatory nonce\n",
    "n0 = generate_key(32)\n",
    "n1 = generate_key(32)\n",
    "n2 = generate_key(32)\n",
    "\n",
    "# magic numbers\n",
    "c0 = bin(0x61707865)[:2]+'0'+bin(0x61707865)[2:]\n",
    "c1 = bin(0x3320646e)[:2]+'00'+bin(0x3320646e)[2:]\n",
    "c2 = bin(0x79622d32)[:2]+'0'+bin(0x79622d32)[2:]\n",
    "c3 = bin(0x6b206574)[:2]+'0'+bin(0x6b206574)[2:]"
   ]
  },
  {
   "cell_type": "code",
   "execution_count": 155,
   "metadata": {},
   "outputs": [
    {
     "data": {
      "text/plain": [
       "34"
      ]
     },
     "execution_count": 155,
     "metadata": {},
     "output_type": "execute_result"
    }
   ],
   "source": [
    "# Creating the Chacha matrix from the above parameters\n",
    "m_chacha = generate_chacha_matrix(k_test,'0b'+'0'*32,n0,n1,n2,c0,c1,c2,c3)\n",
    "len(m_chacha[3][1])\n",
    "# test all elements length\n",
    "\n",
    "#for i in m_chacha:\n",
    "#    for j in i:\n",
    "#        print(len(j[2:]))"
   ]
  },
  {
   "cell_type": "code",
   "execution_count": 9,
   "metadata": {},
   "outputs": [],
   "source": [
    "def quarter_round(a,b,c,d):\n",
    "    a = bit_sum(a,b)\n",
    "    d = xor(d,a)\n",
    "    d = shift_left(d,16)\n",
    "    c = bit_sum(c,d)\n",
    "    b = xor(b,c)\n",
    "    b = shift_left(b,12)\n",
    "    a = bit_sum(a,b)\n",
    "    d = xor(d,a)\n",
    "    d = shift_left(d,8)\n",
    "    c = bit_sum(c,d)\n",
    "    b = xor(b,c)\n",
    "    b = shift_left(b,7)\n",
    "    \n",
    "    return a,b,c,d"
   ]
  },
  {
   "cell_type": "code",
   "execution_count": 213,
   "metadata": {},
   "outputs": [
    {
     "data": {
      "text/plain": [
       "('0b00000000000000000000000000000000',\n",
       " '0b10010111011111000001110100100011',\n",
       " 34)"
      ]
     },
     "execution_count": 213,
     "metadata": {},
     "output_type": "execute_result"
    }
   ],
   "source": [
    "# TEST\n",
    "x0,x1,x2,x3 = m_chacha[0][0],m_chacha[1][0],m_chacha[2][0],m_chacha[3][0]\n",
    "\n",
    "x0 = (bit_sum(x0,x1))\n",
    "#x0,len(x0)\n",
    "(x3,x0, len(xor(x3,x0)))"
   ]
  },
  {
   "cell_type": "code",
   "execution_count": 310,
   "metadata": {},
   "outputs": [
    {
     "name": "stdout",
     "output_type": "stream",
     "text": [
      "0b00111100100001111100000111100001 34\n",
      "0b10010111011111000001110100100011 34\n",
      "0b00011101001000111001011101111100 34\n",
      "0b00111111100000000110101100101100 34\n",
      "0b00011010100010111100101110010010 34\n",
      "0b00011100101110010010110101000101 34\n",
      "0b01011101010000010000111100110110 34\n",
      "0b01000000011000101001100001001010 34\n",
      "0b01100010100110000100101010000000 34\n",
      "0b10100010101000101011010111001110 34\n",
      "0b10111110000110111001100010001011 34\n"
     ]
    }
   ],
   "source": [
    "# It was a big debug part\n",
    "a = bit_sum(x0,x1)\n",
    "print(a, len(a))\n",
    "d = xor(x3,x0)\n",
    "print(d, len(d))\n",
    "d = shift_left(d,16)\n",
    "print(d, len(d))\n",
    "c = bit_sum(x2,d)\n",
    "print(c, len(c))\n",
    "b = xor(x1,c)\n",
    "print(b, len(b))\n",
    "b = shift_left(b,12)\n",
    "print(b, len(b))\n",
    "a = bit_sum(a,b)\n",
    "print(a, len(a))\n",
    "d = xor(d,a)\n",
    "print(d, len(d))\n",
    "d = shift_left(d,8)\n",
    "print(d, len(d))\n",
    "c = bit_sum(c,d)\n",
    "print(c, len(c))\n",
    "b = xor(b,c)\n",
    "print(b, len(b))\n",
    "b = shift_left(b,7)\n"
   ]
  },
  {
   "cell_type": "code",
   "execution_count": 464,
   "metadata": {},
   "outputs": [
    {
     "name": "stdout",
     "output_type": "stream",
     "text": [
      "0b00110101101110011111011000000110 34\n",
      "0b00000001100011101110110001101110 34\n",
      "0b00111011001010001111001000010011 34\n",
      "0b01001110010111110111101110101110 34\n"
     ]
    }
   ],
   "source": [
    "# Testing quarter round function\n",
    "a,b,c,d = quarter_round(m_chacha[0][0],m_chacha[1][0],m_chacha[2][0],m_chacha[3][0])\n",
    "print(a,len(a))\n",
    "print(b,len(b))\n",
    "print(c,len(c))\n",
    "print(d,len(d))"
   ]
  },
  {
   "cell_type": "code",
   "execution_count": 314,
   "metadata": {},
   "outputs": [],
   "source": [
    "def chacha_round(matrix):\n",
    "    M= matrix\n",
    "    # Column Round\n",
    "    M[0][0],M[1][0],M[2][0],M[3][0] = quarter_round(matrix[0][0],matrix[1][0],matrix[2][0],matrix[3][0])\n",
    "    M[0][1],M[1][1],M[2][1],M[3][1] = quarter_round(matrix[0][1],matrix[1][1],matrix[2][1],matrix[3][1])    \n",
    "    M[0][2],M[1][2],M[2][2],M[3][2] = quarter_round(matrix[0][2],matrix[1][2],matrix[2][2],matrix[3][2])\n",
    "    M[0][3],M[1][3],M[2][3],M[3][3] = quarter_round(matrix[0][3],matrix[1][3],matrix[2][3],matrix[3][3])\n",
    "    # Diagonal Round\n",
    "    M[0][0],M[1][1],M[2][2],M[3][3] = quarter_round(matrix[0][0],matrix[1][1],matrix[2][2],matrix[3][3])\n",
    "    M[0][1],M[1][2],M[2][3],M[3][0] = quarter_round(matrix[0][1],matrix[1][2],matrix[2][3],matrix[3][0])\n",
    "    M[0][2],M[1][3],M[2][0],M[3][1] = quarter_round(matrix[0][2],matrix[1][3],matrix[2][0],matrix[3][1])\n",
    "    M[0][3],M[1][0],M[2][1],M[3][2] = quarter_round(matrix[0][3],matrix[1][0],matrix[2][1],matrix[3][2])\n",
    "    \n",
    "    return M"
   ]
  },
  {
   "cell_type": "code",
   "execution_count": 458,
   "metadata": {},
   "outputs": [
    {
     "name": "stdout",
     "output_type": "stream",
     "text": [
      "34\n",
      "34\n",
      "34\n",
      "34\n",
      "34\n",
      "34\n",
      "34\n",
      "34\n",
      "34\n",
      "34\n",
      "34\n",
      "34\n",
      "34\n",
      "34\n",
      "34\n",
      "34\n"
     ]
    }
   ],
   "source": [
    "M = chacha_round(m_chacha)\n",
    "for i in M:\n",
    "    for j in i:\n",
    "        print(len(j))"
   ]
  },
  {
   "cell_type": "code",
   "execution_count": 461,
   "metadata": {},
   "outputs": [
    {
     "data": {
      "text/plain": [
       "[['0b00000000100101000100000101011000',\n",
       "  '0b11001111111110101011000101100110',\n",
       "  '0b00110101011110000100010101110010',\n",
       "  '0b01001110101100110110111110100111'],\n",
       " ['0b00010000011110011011010011011011',\n",
       "  '0b00101010110011000011110101010001',\n",
       "  '0b10000101000010000111011101100100',\n",
       "  '0b10100000001110111011010011010010'],\n",
       " ['0b01101001110100011100110011100100',\n",
       "  '0b01010010011000011010110101011001',\n",
       "  '0b00011111010000110000010101101011',\n",
       "  '0b00100011000110100000100101001010'],\n",
       " ['0b00001100011100110110010011001100',\n",
       "  '0b00101001111100010001100010000100',\n",
       "  '0b01100000110110100101001011100000',\n",
       "  '0b00111110101011011100101010100001']]"
      ]
     },
     "execution_count": 461,
     "metadata": {},
     "output_type": "execute_result"
    }
   ],
   "source": [
    "M"
   ]
  },
  {
   "cell_type": "code",
   "execution_count": null,
   "metadata": {},
   "outputs": [],
   "source": []
  }
 ],
 "metadata": {
  "kernelspec": {
   "display_name": "Python 3",
   "language": "python",
   "name": "python3"
  },
  "language_info": {
   "codemirror_mode": {
    "name": "ipython",
    "version": 3
   },
   "file_extension": ".py",
   "mimetype": "text/x-python",
   "name": "python",
   "nbconvert_exporter": "python",
   "pygments_lexer": "ipython3",
   "version": "3.7.9"
  }
 },
 "nbformat": 4,
 "nbformat_minor": 4
}
